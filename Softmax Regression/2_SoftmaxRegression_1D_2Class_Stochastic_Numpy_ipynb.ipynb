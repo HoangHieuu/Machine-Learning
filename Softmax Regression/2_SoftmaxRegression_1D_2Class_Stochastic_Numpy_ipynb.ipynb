{
  "nbformat": 4,
  "nbformat_minor": 0,
  "metadata": {
    "colab": {
      "provenance": [],
      "authorship_tag": "ABX9TyNQRfcXFRs1+kHFvAkBIzCu",
      "include_colab_link": true
    },
    "kernelspec": {
      "name": "python3",
      "display_name": "Python 3"
    },
    "language_info": {
      "name": "python"
    }
  },
  "cells": [
    {
      "cell_type": "markdown",
      "metadata": {
        "id": "view-in-github",
        "colab_type": "text"
      },
      "source": [
        "<a href=\"https://colab.research.google.com/github/HoangHieuu/Machine-Learning/blob/main/Softmax%20Regression/2_SoftmaxRegression_1D_2Class_Stochastic_Numpy_ipynb.ipynb\" target=\"_parent\"><img src=\"https://colab.research.google.com/assets/colab-badge.svg\" alt=\"Open In Colab\"/></a>"
      ]
    },
    {
      "cell_type": "code",
      "execution_count": null,
      "metadata": {
        "colab": {
          "base_uri": "https://localhost:8080/"
        },
        "id": "INuppeK5weOU",
        "outputId": "112e5341-644f-4a76-f909-f6f6932b6324"
      },
      "outputs": [
        {
          "output_type": "execute_result",
          "data": {
            "text/plain": [
              "(array([[1.4],\n",
              "        [1.3],\n",
              "        [1.5],\n",
              "        [4.5],\n",
              "        [4.1],\n",
              "        [4.6]]),\n",
              " array([0, 0, 0, 1, 1, 1], dtype=uint8))"
            ]
          },
          "metadata": {},
          "execution_count": 5
        }
      ],
      "source": [
        "#Upload file iris_1D_2c first\n",
        "import numpy as np\n",
        "import matplotlib.pyplot as plt\n",
        "\n",
        "iris = np.genfromtxt('/content/iris_1D_2c.csv', dtype = None, delimiter = ',', skip_header = 1)\n",
        "\n",
        "X = iris[:, 0: 1]\n",
        "y = iris[:, 1]\n",
        "\n",
        "y = y.astype('uint8')\n",
        "\n",
        "X, y"
      ]
    },
    {
      "cell_type": "code",
      "source": [
        "plt.figure(figsize=(8, 4))\n",
        "plt.scatter(X[y == 0][:, 0], y[y == 0], color='b', label='0')\n",
        "plt.scatter(X[y == 1][:, 0], y[y == 1], color='r', label='1')\n",
        "plt.legend()\n",
        "plt.show()"
      ],
      "metadata": {
        "colab": {
          "base_uri": "https://localhost:8080/",
          "height": 368
        },
        "id": "fBDm-dD7zSqk",
        "outputId": "0f6e1f4c-2ce1-45cf-f4fd-72200bafd6ff"
      },
      "execution_count": null,
      "outputs": [
        {
          "output_type": "display_data",
          "data": {
            "text/plain": [
              "<Figure size 800x400 with 1 Axes>"
            ],
            "image/png": "[encoded data removed]"
          },
          "metadata": {}
        }
      ]
    },
    {
      "cell_type": "markdown",
      "source": [
        "## One_hot Encoding"
      ],
      "metadata": {
        "id": "1JFgyf6-z_ci"
      }
    },
    {
      "cell_type": "code",
      "source": [
        "N = 6 # numbers of samples\n",
        "k = 2 # number of classes\n",
        "\n",
        "# one_hot\n",
        "import numpy as np\n",
        "\n",
        "def convert_one_hot(y, k):\n",
        "    one_hot = np.zeros((len(y), k))\n",
        "    one_hot[np.arange(len(y)), y] = 1\n",
        "    return one_hot\n",
        "\n",
        "y_one_hot = convert_one_hot(y, k)\n",
        "print('y_one_hot\\n', y_one_hot)\n",
        "\n",
        "intercept = np.ones((X.shape[0], 1))\n",
        "X = np.concatenate((intercept, X), axis=1)\n",
        "print('X\\n', X)"
      ],
      "metadata": {
        "colab": {
          "base_uri": "https://localhost:8080/"
        },
        "id": "USkqkRoZz-Bc",
        "outputId": "c72983c5-1e8d-4d52-9b69-4139e41b8ec5"
      },
      "execution_count": null,
      "outputs": [
        {
          "output_type": "stream",
          "name": "stdout",
          "text": [
            "y_one_hot\n",
            " [[1. 0.]\n",
            " [1. 0.]\n",
            " [1. 0.]\n",
            " [0. 1.]\n",
            " [0. 1.]\n",
            " [0. 1.]]\n",
            "X\n",
            " [[1.  1.4]\n",
            " [1.  1.3]\n",
            " [1.  1.5]\n",
            " [1.  4.5]\n",
            " [1.  4.1]\n",
            " [1.  4.6]]\n"
          ]
        }
      ]
    },
    {
      "cell_type": "code",
      "source": [
        "# initialize parameters\n",
        "theta = np.array([[0.1, 0.05],\n",
        "                  [0.2, -0.1]])\n",
        "print('theta:\\n', theta)"
      ],
      "metadata": {
        "colab": {
          "base_uri": "https://localhost:8080/"
        },
        "id": "Y61d1_FC0xlO",
        "outputId": "0a22837d-2c5e-49eb-e616-e791d06193cf"
      },
      "execution_count": null,
      "outputs": [
        {
          "output_type": "stream",
          "name": "stdout",
          "text": [
            "theta:\n",
            " [[ 0.1   0.05]\n",
            " [ 0.2  -0.1 ]]\n"
          ]
        }
      ]
    },
    {
      "cell_type": "code",
      "source": [
        "learning_rate = 0.1\n",
        "max_epochs = 1\n",
        "losses = []\n",
        "for epoch in range(max_epochs):\n",
        "  for i in range(N):\n",
        "    xi = X[i]\n",
        "    yi = y_one_hot[i]\n",
        "\n",
        "    xi = xi.reshape((2,1))\n",
        "    yi = yi.reshape((2,1))\n",
        "\n",
        "    #compute z\n",
        "    z = theta.T.dot(xi)\n",
        "\n",
        "    #compute probability\n",
        "    exp_z = np.exp(z)\n",
        "    y_hat = exp_z / np.sum(exp_z, axis = 0)\n",
        "\n",
        "    #compute loss\n",
        "    loss = -yi.T.dot(np.log(y_hat))\n",
        "    losses.append(loss[0])\n",
        "\n",
        "    #compute gradient\n",
        "    dtheta = xi.dot((y_hat - yi).T)\n",
        "\n",
        "    #update parameters\n",
        "    theta = theta - learning_rate * dtheta\n",
        "    break"
      ],
      "metadata": {
        "id": "bJnOLGuQ4AL5"
      },
      "execution_count": null,
      "outputs": []
    },
    {
      "cell_type": "code",
      "source": [
        "theta"
      ],
      "metadata": {
        "colab": {
          "base_uri": "https://localhost:8080/"
        },
        "id": "JHCM5X6B5ZUH",
        "outputId": "69008e25-d260-44b0-b511-433b89dc1c5d"
      },
      "execution_count": null,
      "outputs": [
        {
          "output_type": "execute_result",
          "data": {
            "text/plain": [
              "array([[ 0.13846162,  0.01153838],\n",
              "       [ 0.25384627, -0.15384627]])"
            ]
          },
          "metadata": {},
          "execution_count": 21
        }
      ]
    },
    {
      "cell_type": "markdown",
      "source": [
        "## One cell"
      ],
      "metadata": {
        "id": "tdPzHIdJ6Zz3"
      }
    },
    {
      "cell_type": "code",
      "source": [
        "iris = np.genfromtxt('/content/iris_1D_2c.csv', dtype = None, delimiter = ',', skip_header=1)\n",
        "\n",
        "X = iris[:, 0 : 1]\n",
        "y = iris[:, 1]\n",
        "\n",
        "y = y.astype('uint8')\n",
        "\n",
        "X,y\n"
      ],
      "metadata": {
        "colab": {
          "base_uri": "https://localhost:8080/"
        },
        "id": "-knTRYcp6b_K",
        "outputId": "ae39f1ec-f6d6-4da8-dc53-2afb0a057dd3"
      },
      "execution_count": null,
      "outputs": [
        {
          "output_type": "execute_result",
          "data": {
            "text/plain": [
              "(array([[1.4],\n",
              "        [1.3],\n",
              "        [1.5],\n",
              "        [4.5],\n",
              "        [4.1],\n",
              "        [4.6]]),\n",
              " array([0, 0, 0, 1, 1, 1], dtype=uint8))"
            ]
          },
          "metadata": {},
          "execution_count": 74
        }
      ]
    },
    {
      "cell_type": "code",
      "source": [
        "#One-hot encoding\n",
        "def convert_one_hot(y, k):\n",
        "  one_hot = np.zeros(((len(y)), k))\n",
        "  one_hot[np.arange(len(y)), y] = 1\n",
        "  return one_hot\n",
        "\n",
        "y_one_hot = convert_one_hot(y, 2)\n",
        "y_one_hot"
      ],
      "metadata": {
        "colab": {
          "base_uri": "https://localhost:8080/"
        },
        "id": "caCHOK217ix1",
        "outputId": "0236481e-30b7-4424-e98a-c6af0ed917f4"
      },
      "execution_count": null,
      "outputs": [
        {
          "output_type": "execute_result",
          "data": {
            "text/plain": [
              "array([[1., 0.],\n",
              "       [1., 0.],\n",
              "       [1., 0.],\n",
              "       [0., 1.],\n",
              "       [0., 1.],\n",
              "       [0., 1.]])"
            ]
          },
          "metadata": {},
          "execution_count": 75
        }
      ]
    },
    {
      "cell_type": "code",
      "source": [
        "intercept = np.ones((X.shape[0], 1))\n",
        "X = np.concatenate((intercept, X), axis=1)\n",
        "\n",
        "theta = np.array([[0.1, 0.05],\n",
        "                  [0.2, -0.1]])\n",
        "\n",
        "X,  theta"
      ],
      "metadata": {
        "colab": {
          "base_uri": "https://localhost:8080/"
        },
        "id": "DvVA7-s08YPz",
        "outputId": "2fbee870-03ef-42b8-ed0c-4b1735d18ed0"
      },
      "execution_count": null,
      "outputs": [
        {
          "output_type": "execute_result",
          "data": {
            "text/plain": [
              "(array([[1. , 1.4],\n",
              "        [1. , 1.3],\n",
              "        [1. , 1.5],\n",
              "        [1. , 4.5],\n",
              "        [1. , 4.1],\n",
              "        [1. , 4.6]]),\n",
              " array([[ 0.1 ,  0.05],\n",
              "        [ 0.2 , -0.1 ]]))"
            ]
          },
          "metadata": {},
          "execution_count": 76
        }
      ]
    },
    {
      "cell_type": "code",
      "source": [
        "N = 6 #number of samples"
      ],
      "metadata": {
        "id": "r-HEx17w9BOH"
      },
      "execution_count": null,
      "outputs": []
    },
    {
      "cell_type": "code",
      "source": [
        "lr = 0.1\n",
        "losses  = []\n",
        "epochs = 100\n",
        "\n",
        "for epoch in range(epochs):\n",
        "  for i in range(N):\n",
        "    xi = X[i]\n",
        "    yi = y_one_hot[i]\n",
        "\n",
        "    xi = xi.reshape((2,1))\n",
        "    yi = yi.reshape((2,1))\n",
        "\n",
        "    #compute z\n",
        "    z = theta.T.dot(xi)\n",
        "\n",
        "    #compute y_hat\n",
        "    exp_z = np.exp(z)\n",
        "    y_hat = exp_z / np.sum(exp_z, axis = 0)\n",
        "\n",
        "\n",
        "    # compute the loss\n",
        "    loss = -np.log(yi.T.dot(y_hat))\n",
        "    losses.append(loss[0])\n",
        "\n",
        "    #compute gradient\n",
        "    dtheta = xi.dot((y_hat -yi).T)\n",
        "\n",
        "    #update theta\n",
        "    theta -= dtheta*lr\n"
      ],
      "metadata": {
        "id": "wCMIWIop8h4i"
      },
      "execution_count": null,
      "outputs": []
    },
    {
      "cell_type": "code",
      "source": [
        "theta"
      ],
      "metadata": {
        "colab": {
          "base_uri": "https://localhost:8080/"
        },
        "id": "I-9wQexQ-ArT",
        "outputId": "1752baf6-a1dd-4b19-bf0c-f3aeb122be60"
      },
      "execution_count": null,
      "outputs": [
        {
          "output_type": "execute_result",
          "data": {
            "text/plain": [
              "array([[ 3.13085488, -2.98085488],\n",
              "       [-1.11662847,  1.21662847]])"
            ]
          },
          "metadata": {},
          "execution_count": 79
        }
      ]
    },
    {
      "cell_type": "code",
      "source": [
        "x_axis = range(len(losses))\n",
        "plt.plot(x_axis,losses, color=\"r\")\n",
        "plt.show()"
      ],
      "metadata": {
        "colab": {
          "base_uri": "https://localhost:8080/",
          "height": 430
        },
        "id": "-Vkng4tU923J",
        "outputId": "3050426c-13f9-4cf3-d815-f087f0454764"
      },
      "execution_count": null,
      "outputs": [
        {
          "output_type": "display_data",
          "data": {
            "text/plain": [
              "<Figure size 640x480 with 1 Axes>"
            ],
            "image/png": "[encoded data removed]"
          },
          "metadata": {}
        }
      ]
    },
    {
      "cell_type": "code",
      "source": [
        "scores = []\n",
        "\n",
        "for i in range(N):\n",
        "    xi = X[i]\n",
        "    yi = y_one_hot[i]\n",
        "    yi = yi.reshape((2,1))\n",
        "\n",
        "    # evaluate class scores\n",
        "    z = theta.T.dot(xi)\n",
        "    scores.append(z)\n",
        "\n",
        "predicted_class = np.argmax(scores, axis=1)\n",
        "predicted_class"
      ],
      "metadata": {
        "id": "BrxgjbvIAuLg",
        "outputId": "57cdab62-c24d-43f2-b637-06336d41aa7b",
        "colab": {
          "base_uri": "https://localhost:8080/"
        }
      },
      "execution_count": null,
      "outputs": [
        {
          "output_type": "execute_result",
          "data": {
            "text/plain": [
              "array([0, 0, 0, 1, 1, 1])"
            ]
          },
          "metadata": {},
          "execution_count": 81
        }
      ]
    }
  ]
}