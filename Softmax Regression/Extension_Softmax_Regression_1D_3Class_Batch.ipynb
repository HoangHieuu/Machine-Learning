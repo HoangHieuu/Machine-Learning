{
  "nbformat": 4,
  "nbformat_minor": 0,
  "metadata": {
    "colab": {
      "provenance": [],
      "authorship_tag": "ABX9TyPQ6vzilxV1UCw1ux/xBORR",
      "include_colab_link": true
    },
    "kernelspec": {
      "name": "python3",
      "display_name": "Python 3"
    },
    "language_info": {
      "name": "python"
    }
  },
  "cells": [
    {
      "cell_type": "markdown",
      "metadata": {
        "id": "view-in-github",
        "colab_type": "text"
      },
      "source": [
        "<a href=\"https://colab.research.google.com/github/HoangHieuu/Machine-Learning/blob/main/Softmax%20Regression/Extension_Softmax_Regression_1D_3Class_Batch.ipynb\" target=\"_parent\"><img src=\"https://colab.research.google.com/assets/colab-badge.svg\" alt=\"Open In Colab\"/></a>"
      ]
    },
    {
      "cell_type": "code",
      "execution_count": null,
      "metadata": {
        "colab": {
          "base_uri": "https://localhost:8080/",
          "height": 576
        },
        "id": "RaVH40qDHtWE",
        "outputId": "59cabbe9-da19-45f9-ad3d-97194afe8e0b"
      },
      "outputs": [
        {
          "output_type": "stream",
          "name": "stdout",
          "text": [
            "X:\n",
            " [[1.4]\n",
            " [1.3]\n",
            " [1.5]\n",
            " [4.5]\n",
            " [4.1]\n",
            " [4.6]\n",
            " [5.2]\n",
            " [5.6]\n",
            " [5.9]]\n",
            "y:\n",
            " [0 0 0 1 1 1 2 2 2]\n"
          ]
        },
        {
          "output_type": "display_data",
          "data": {
            "text/plain": [
              "<Figure size 800x400 with 1 Axes>"
            ],
            "image/png": "[encoded data removed]"
          },
          "metadata": {}
        }
      ],
      "source": [
        "import numpy as np\n",
        "import matplotlib.pyplot as plt\n",
        "from sklearn import preprocessing\n",
        "\n",
        "iris = np.genfromtxt('iris_1D_3c.csv', dtype=None, delimiter=',', skip_header=1)\n",
        "X = iris[:, 0:1]\n",
        "y = iris[:, 1]\n",
        "\n",
        "# change data type\n",
        "y = y.astype('uint8')\n",
        "\n",
        "print('X:\\n', X)\n",
        "print('y:\\n', y)\n",
        "\n",
        "plt.figure(figsize=(8, 4))\n",
        "plt.scatter(X[y == 0][:, 0], y[y == 0], color='b', label='0')\n",
        "plt.scatter(X[y == 1][:, 0], y[y == 1], color='r', label='1')\n",
        "plt.scatter(X[y == 2][:, 0], y[y == 2], color='g', label='2')\n",
        "plt.legend()\n",
        "plt.show()"
      ]
    },
    {
      "cell_type": "code",
      "source": [
        "N = 6\n",
        "d = 2 # dimensionality\n",
        "k = 3 # number of classes\n",
        "\n",
        "# one_hot\n",
        "def convert_one_hot(y, k):\n",
        "    one_hot = np.zeros((len(y), k))\n",
        "    one_hot[np.arange(len(y)), y] = 1\n",
        "    return one_hot\n",
        "\n",
        "y_one_hot = convert_one_hot(y, k)\n",
        "print(y_one_hot)\n",
        "\n",
        "intercept = np.ones((X.shape[0], 1))\n",
        "X = np.concatenate((intercept, X), axis=1)\n",
        "print(X)"
      ],
      "metadata": {
        "colab": {
          "base_uri": "https://localhost:8080/"
        },
        "id": "KFbv6btLIxgx",
        "outputId": "b3d50d1b-93be-45cd-dfc3-7a1a040ac08b"
      },
      "execution_count": null,
      "outputs": [
        {
          "output_type": "stream",
          "name": "stdout",
          "text": [
            "[[1. 0. 0.]\n",
            " [1. 0. 0.]\n",
            " [1. 0. 0.]\n",
            " [0. 1. 0.]\n",
            " [0. 1. 0.]\n",
            " [0. 1. 0.]\n",
            " [0. 0. 1.]\n",
            " [0. 0. 1.]\n",
            " [0. 0. 1.]]\n",
            "[[1.  1.4]\n",
            " [1.  1.3]\n",
            " [1.  1.5]\n",
            " [1.  4.5]\n",
            " [1.  4.1]\n",
            " [1.  4.6]\n",
            " [1.  5.2]\n",
            " [1.  5.6]\n",
            " [1.  5.9]]\n"
          ]
        }
      ]
    },
    {
      "cell_type": "code",
      "source": [
        "len(y_one_hot)"
      ],
      "metadata": {
        "colab": {
          "base_uri": "https://localhost:8080/"
        },
        "id": "0pPxmETNMW-_",
        "outputId": "8725c257-babf-407b-daae-4007112c0914"
      },
      "execution_count": null,
      "outputs": [
        {
          "output_type": "execute_result",
          "data": {
            "text/plain": [
              "9"
            ]
          },
          "metadata": {},
          "execution_count": 16
        }
      ]
    },
    {
      "cell_type": "code",
      "source": [
        "# initialize parameters\n",
        "theta = 0.01 * np.random.randn(d, k)\n",
        "print('theta:\\n', theta)"
      ],
      "metadata": {
        "colab": {
          "base_uri": "https://localhost:8080/"
        },
        "id": "HHW7XDdFJrMx",
        "outputId": "4cbc0d8e-fd93-490e-cd96-2d3ba0e3dd61"
      },
      "execution_count": null,
      "outputs": [
        {
          "output_type": "stream",
          "name": "stdout",
          "text": [
            "theta:\n",
            " [[ 0.00222149 -0.00650297 -0.00090061]\n",
            " [-0.00892596 -0.01638507  0.00335098]]\n"
          ]
        }
      ]
    },
    {
      "cell_type": "code",
      "source": [
        "# some parameters\n",
        "learning_rate = 0.01\n",
        "losses = []\n",
        "num_iter = 2000\n",
        "\n",
        "for epoch in range(num_iter):\n",
        "    # evaluate class scores\n",
        "    z = X.dot(theta)\n",
        "\n",
        "    #compute the class probabilities\n",
        "    exp_z = np.exp(z)\n",
        "    y_hat = exp_z / np.sum(exp_z, axis=1, keepdims=True)\n",
        "\n",
        "    # compute the loss\n",
        "    loss = -np.log(np.sum(y_hat*y_one_hot, axis=1))\n",
        "    losses.append(np.sum(loss))\n",
        "\n",
        "    # compute the gradient on scores\n",
        "    dz = y_hat - y_one_hot\n",
        "\n",
        "    # backpropate the gradient to the parameters (W,b)\n",
        "    dtheta = X.T.dot(dz)\n",
        "\n",
        "    # perform a parameter update\n",
        "    theta = theta - learning_rate*dtheta"
      ],
      "metadata": {
        "id": "abrVXhCgLzbI"
      },
      "execution_count": null,
      "outputs": []
    },
    {
      "cell_type": "code",
      "source": [
        "x_axis = range(len(losses))\n",
        "plt.plot(x_axis, losses, color=\"r\")\n",
        "plt.show()"
      ],
      "metadata": {
        "colab": {
          "base_uri": "https://localhost:8080/",
          "height": 430
        },
        "id": "aSMIQG6ZL8dC",
        "outputId": "6d1f1138-d4c3-4905-b5fc-ff46af55f44a"
      },
      "execution_count": null,
      "outputs": [
        {
          "output_type": "display_data",
          "data": {
            "text/plain": [
              "<Figure size 640x480 with 1 Axes>"
            ],
            "image/png": "[encoded data removed]"
          },
          "metadata": {}
        }
      ]
    },
    {
      "cell_type": "code",
      "source": [
        "z = X.dot(theta)\n",
        "exp_z = np.exp(z)\n",
        "y_hat = exp_z / np.sum(exp_z, axis=1, keepdims=True)\n",
        "print(y_hat)"
      ],
      "metadata": {
        "colab": {
          "base_uri": "https://localhost:8080/"
        },
        "id": "-Qj7ovFVL-z_",
        "outputId": "88fb7c6f-b1b9-4924-c607-58f7c8fc9492"
      },
      "execution_count": null,
      "outputs": [
        {
          "output_type": "stream",
          "name": "stdout",
          "text": [
            "[[9.35330700e-01 6.41242257e-02 5.45074391e-04]\n",
            " [9.46736928e-01 5.28715395e-02 3.91532993e-04]\n",
            " [9.21672412e-01 7.75707228e-02 7.56865517e-04]\n",
            " [1.54570937e-02 6.11192840e-01 3.73350066e-01]\n",
            " [4.07566881e-02 7.09564832e-01 2.49678480e-01]\n",
            " [1.19649023e-02 5.80796352e-01 4.07238746e-01]\n",
            " [2.30616343e-03 3.83169242e-01 6.14524595e-01]\n",
            " [6.99787559e-04 2.64072999e-01 7.35227213e-01]\n",
            " [2.74808297e-04 1.91858276e-01 8.07866916e-01]]\n"
          ]
        }
      ]
    },
    {
      "cell_type": "code",
      "source": [
        "#Finding the index of the maximum value along a specified axis.\n",
        "predicted_class = np.argmax(y_hat, axis=1)\n",
        "print(predicted_class)"
      ],
      "metadata": {
        "colab": {
          "base_uri": "https://localhost:8080/"
        },
        "id": "mAuu3qqxMAtn",
        "outputId": "b48638ab-544d-49c5-8926-3412315acbb7"
      },
      "execution_count": null,
      "outputs": [
        {
          "output_type": "stream",
          "name": "stdout",
          "text": [
            "[0 0 0 1 1 1 2 2 2]\n"
          ]
        }
      ]
    }
  ]
}